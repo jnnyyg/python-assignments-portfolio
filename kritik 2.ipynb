{
 "cells": [
  {
   "cell_type": "code",
   "execution_count": 1,
   "id": "62d0b9ad-e3a3-4194-a6b2-de3c1e66fdfd",
   "metadata": {},
   "outputs": [
    {
     "name": "stdout",
     "output_type": "stream",
     "text": [
      "0.2698741375\n",
      "0.8336061944\n",
      "3.1415926536\n",
      "No method\n",
      "None\n"
     ]
    }
   ],
   "source": [
    "import math\n",
    "\n",
    "def roots(f, a, b):\n",
    "    if f(a) * f(b) >= 0:\n",
    "        print(\"No method\")\n",
    "        return None\n",
    "    else:\n",
    "        while abs(b - a) >= 10**-10:\n",
    "            m = (a + b)/2\n",
    "            if f(m) * f(a) < 0:\n",
    "                b = m\n",
    "            elif f(m) * f(b) < 0:\n",
    "                a = m\n",
    "            elif f(m) == 0:\n",
    "                return round(m, 10)\n",
    "        return round(m, 10)\n",
    "\n",
    "def func1(x):\n",
    "  return (math.e ** x) + math.log(x)\n",
    "def func2(x):\n",
    "  return (math.atan(x)) - (x ** 2)\n",
    "def func3(x):\n",
    "  return (math.sin(x))/(math.log(x))\n",
    "def func4(x):\n",
    "  return math.log(math.cos(x))\n",
    "\n",
    "print(roots(func1, 0.00000000000000000000001, 1))\n",
    "print(roots(func2, 0.00000000000000000000001, 2))\n",
    "print(roots(func3, 3, 4))\n",
    "print(roots(func4, 5, 7))"
   ]
  },
  {
   "cell_type": "code",
   "execution_count": null,
   "id": "859a94be-1cba-491d-a93a-1f1e24114696",
   "metadata": {},
   "outputs": [],
   "source": []
  },
  {
   "cell_type": "code",
   "execution_count": null,
   "id": "92e9ab30-08b7-47ef-a24b-f95d258ec453",
   "metadata": {},
   "outputs": [],
   "source": []
  }
 ],
 "metadata": {
  "kernelspec": {
   "display_name": "Python 3 (ipykernel)",
   "language": "python",
   "name": "python3"
  },
  "language_info": {
   "codemirror_mode": {
    "name": "ipython",
    "version": 3
   },
   "file_extension": ".py",
   "mimetype": "text/x-python",
   "name": "python",
   "nbconvert_exporter": "python",
   "pygments_lexer": "ipython3",
   "version": "3.11.4"
  }
 },
 "nbformat": 4,
 "nbformat_minor": 5
}
