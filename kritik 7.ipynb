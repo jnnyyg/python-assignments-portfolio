{
 "cells": [
  {
   "cell_type": "code",
   "execution_count": 20,
   "id": "2665f6fc-15de-45a2-a983-911d687e12bd",
   "metadata": {},
   "outputs": [
    {
     "name": "stdout",
     "output_type": "stream",
     "text": [
      "Standard deviation: 23.205425925847603\n",
      "t0 value: 1.0059687661824432\n",
      "t* value: 1.9841984198419842\n"
     ]
    },
    {
     "data": {
      "text/plain": [
       "False"
      ]
     },
     "execution_count": 20,
     "metadata": {},
     "output_type": "execute_result"
    }
   ],
   "source": [
    "import numpy as np\n",
    "from scipy.special import gamma\n",
    "\n",
    "def t_distribution_pdf(x, nu): # greg's code that he gave us\n",
    "    coeff = gamma((nu + 1) / 2) / (np.sqrt(nu * np.pi) * gamma(nu / 2))\n",
    "    density = coeff * (1 + x**2 / nu) ** (-0.5 * (nu + 1))\n",
    "    return density\n",
    "\n",
    "def standard_deviation(numericaldata):\n",
    "    listofa = []\n",
    "    for i in range(len(numericaldata)):\n",
    "        average = sum(numericaldata)/len(numericaldata) # finding mean everage\n",
    "        sum1 = (i - average)**2\n",
    "        listofa.append(sum)\n",
    "    s = np.sqrt((1/(len(numericaldata)))*(sum1)) # equation for standard deviation\n",
    "    #print(\"Mean deviation:\", average)\n",
    "    return s\n",
    "\n",
    "testscores = [92.64, 79.00, 84.79, 97.41, 93.68, 65.23, 84.50, 73.49, 73.97, 79.11]\n",
    "print(\"Standard deviation:\", standard_deviation(testscores))\n",
    "\n",
    "def t0_value(data):\n",
    "    average = sum(data)/len(data)\n",
    "    t0_num = average - 75 # testing the calculated value against the hypothesis (numerator of equation)\n",
    "    t0_denom = standard_deviation(data)/np.sqrt(len(data)) # denominator of equation\n",
    "    t0 = t0_num/t0_denom\n",
    "    return t0\n",
    "\n",
    "print(\"t0 value:\", t0_value(testscores))\n",
    "\n",
    "def find_t_star(prob, nu, x_start=0, x_end=20, num_points=10000): # greg's code that he gave us\n",
    "    x = np.linspace(x_start, x_end, num_points)\n",
    "    y = t_distribution_pdf(x, nu)\n",
    "    cdf = np.cumsum(y) * (x[1] - x[0])\n",
    "    target_half_prob = prob / 2\n",
    "    index = np.where(cdf >= target_half_prob)[0][0]\n",
    "    return x[index]\n",
    "\n",
    "print(\"t* value:\", find_t_star(0.95, 75))\n",
    "\n",
    "def check_function(a, b):\n",
    "    if -a <= b <= a: # check to see if t0 is within the interval\n",
    "        return True\n",
    "    else:\n",
    "        return False\n",
    "        \n",
    "check_function(t0_value(testscores), find_t_star(0.95, 75))\n",
    "\n",
    "# since this returned a false value we can assume that the hypothesis was not a very good one\n",
    "# we reject the null hypothesis!\n"
   ]
  },
  {
   "cell_type": "code",
   "execution_count": null,
   "id": "622ac018-316a-47b5-b0b4-ed5e08fc5f5a",
   "metadata": {},
   "outputs": [],
   "source": []
  }
 ],
 "metadata": {
  "kernelspec": {
   "display_name": "Python 3 (ipykernel)",
   "language": "python",
   "name": "python3"
  },
  "language_info": {
   "codemirror_mode": {
    "name": "ipython",
    "version": 3
   },
   "file_extension": ".py",
   "mimetype": "text/x-python",
   "name": "python",
   "nbconvert_exporter": "python",
   "pygments_lexer": "ipython3",
   "version": "3.11.4"
  }
 },
 "nbformat": 4,
 "nbformat_minor": 5
}
