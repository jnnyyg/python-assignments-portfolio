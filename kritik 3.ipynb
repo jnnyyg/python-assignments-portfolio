{
 "cells": [
  {
   "cell_type": "code",
   "execution_count": 1,
   "id": "4f69ca61-b27f-4222-b733-1d334f8b13cc",
   "metadata": {},
   "outputs": [
    {
     "name": "stdout",
     "output_type": "stream",
     "text": [
      "0.999\n",
      "1.001\n"
     ]
    }
   ],
   "source": [
    "def f(x):\n",
    "  return x**2\n",
    "c = 1\n",
    "E = 0.1\n",
    "\n",
    "n = 100\n",
    "x1 = c\n",
    "x2 = c\n",
    "deltax = 10**-8\n",
    "d = 0.001\n",
    "\n",
    "def fprime(x):\n",
    "  return (f(x + deltax) - f(x - deltax))/(2*deltax)\n",
    "\n",
    "def L(x):\n",
    "  return f(c) + fprime(c)*(x -c)\n",
    "\n",
    "for i in range(n):\n",
    "  x1 -= d\n",
    "  if abs(f(x1) - L(x1)) <= E:\n",
    "    print(x1)\n",
    "    break\n",
    "  else:\n",
    "    print(\"No x1 can be found\")\n",
    "for i in range(n):\n",
    "  x2 += d\n",
    "  if abs(f(x2) - L(x2)) <= E:\n",
    "    print(x2)\n",
    "    break\n",
    "  else:\n",
    "    print(\"No x2 can be found\")\n"
   ]
  },
  {
   "cell_type": "code",
   "execution_count": 2,
   "id": "7a562664-e5ee-4918-8af4-513a1917f798",
   "metadata": {},
   "outputs": [
    {
     "name": "stdout",
     "output_type": "stream",
     "text": [
      "0.7843981633974483\n",
      "0.7863981633974483\n"
     ]
    }
   ],
   "source": [
    "import numpy as np\n",
    "\n",
    "def f(x):\n",
    "  return np.sin(x)\n",
    "c = np.pi/4\n",
    "E = 0.05\n",
    "\n",
    "n = 100\n",
    "x1 = c\n",
    "x2 = c\n",
    "deltax = 10**-8\n",
    "d = 0.001\n",
    "\n",
    "def fprime(x):\n",
    "  return (f(x + deltax) - f(x - deltax))/(2*deltax)\n",
    "\n",
    "def L(x):\n",
    "  return f(c) + fprime(c)*(x - c)\n",
    "\n",
    "for i in range(n):\n",
    "  x1 -= d\n",
    "  if abs(f(x1) - L(x1)) <= E:\n",
    "    print(x1)\n",
    "    break\n",
    "  else:\n",
    "    print(\"No x1 can be found\")\n",
    "for i in range(n):\n",
    "  x2 += d\n",
    "  if abs(f(x2) - L(x2)) <= E:\n",
    "    print(x2)\n",
    "    break\n",
    "  else:\n",
    "    print(\"No x2 can be found\")\n"
   ]
  },
  {
   "cell_type": "code",
   "execution_count": 3,
   "id": "2e885ae3-662f-492b-b52f-d30a789b18cc",
   "metadata": {},
   "outputs": [
    {
     "name": "stdout",
     "output_type": "stream",
     "text": [
      "-0.001\n",
      "0.001\n"
     ]
    }
   ],
   "source": [
    "import numpy as np\n",
    "\n",
    "def f(x):\n",
    "  return np.exp(x)\n",
    "c = 0\n",
    "E = 0.01\n",
    "\n",
    "n = 100\n",
    "x1 = c\n",
    "x2 = c\n",
    "deltax = 10**-8\n",
    "d = 0.001\n",
    "\n",
    "def fprime(x):\n",
    "  return (f(x + deltax) - f(x - deltax))/(2*deltax)\n",
    "\n",
    "def L(x):\n",
    "  return f(c) + fprime(c)*(x -c)\n",
    "\n",
    "for i in range(n):\n",
    "  x1 -= d\n",
    "  if abs(f(x1) - L(x1)) <= E:\n",
    "    print(x1)\n",
    "    break\n",
    "  else:\n",
    "    print(\"No x1 can be found\")\n",
    "for i in range(n):\n",
    "  x2 += d\n",
    "  if abs(f(x2) - L(x2)) <= E:\n",
    "    print(x2)\n",
    "    break\n",
    "  else:\n",
    "    print(\"No x2 can be found\")\n"
   ]
  },
  {
   "cell_type": "code",
   "execution_count": null,
   "id": "0f86eafc-8c62-4f1e-9ad6-7739dd5fcb19",
   "metadata": {},
   "outputs": [],
   "source": []
  },
  {
   "cell_type": "code",
   "execution_count": null,
   "id": "fe9a8b6b-a291-40d1-afd3-d90c6f5942d4",
   "metadata": {},
   "outputs": [],
   "source": []
  },
  {
   "cell_type": "code",
   "execution_count": null,
   "id": "965e4a18-eac6-4766-a17b-f97a98b34148",
   "metadata": {},
   "outputs": [],
   "source": []
  }
 ],
 "metadata": {
  "kernelspec": {
   "display_name": "Python 3 (ipykernel)",
   "language": "python",
   "name": "python3"
  },
  "language_info": {
   "codemirror_mode": {
    "name": "ipython",
    "version": 3
   },
   "file_extension": ".py",
   "mimetype": "text/x-python",
   "name": "python",
   "nbconvert_exporter": "python",
   "pygments_lexer": "ipython3",
   "version": "3.11.4"
  }
 },
 "nbformat": 4,
 "nbformat_minor": 5
}
