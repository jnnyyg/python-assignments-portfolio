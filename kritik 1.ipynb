{
 "cells": [
  {
   "cell_type": "code",
   "execution_count": null,
   "id": "2bb5a4a3-efc7-49ea-a1ad-753714597b69",
   "metadata": {},
   "outputs": [],
   "source": []
  },
  {
   "cell_type": "code",
   "execution_count": 7,
   "id": "799e7ec6-dbfc-4697-b133-646e011cd7e5",
   "metadata": {},
   "outputs": [
    {
     "name": "stdout",
     "output_type": "stream",
     "text": [
      "(0.46368427579365074, 6, 4.438920454545455e-05)\n",
      "True\n",
      "0.7328151017865066\n",
      "Error!\n",
      "Error!\n"
     ]
    }
   ],
   "source": [
    "#KRITIK 1\n",
    "def approxfunction(x):\n",
    "    a = 0\n",
    "    n = 1\n",
    "    i = 0\n",
    "    error_bound = 1\n",
    "    if 0 <= x <= 1: # restricts the input to between 0 or 1, otherwise it returns \"Error!\"\n",
    "        while error_bound >= 0.0001:\n",
    "            a += (((-1)**i)*(x**(2*i+1)))/(2*i + 1) # the sum of\n",
    "            error_bound = (x**(2*n+1))/(2*n+1)\n",
    "            n += + 1\n",
    "            i += 1\n",
    "        thetuple = (a, n, error_bound)\n",
    "        print(thetuple)\n",
    "        print(abs(math.atan(x) - a) <= error_bound)\n",
    "    else:\n",
    "        print(\"Error!\")\n",
    "import math\n",
    "approxfunction(0.5)\n",
    "print(math.atan(0.9))\n",
    "approxfunction(3)\n",
    "approxfunction(1.00001)"
   ]
  },
  {
   "cell_type": "code",
   "execution_count": 20,
   "id": "453b0c4a-9963-4116-bd29-83f5223352b8",
   "metadata": {},
   "outputs": [
    {
     "name": "stdout",
     "output_type": "stream",
     "text": [
      "Error!\n",
      "(0.0, 2, 0.0)\n",
      "(0.24498697916666665, 4, 8.719308035714285e-06)\n",
      "(0.46368427579365074, 6, 4.438920454545455e-05)\n",
      "(0.6435394700943785, 12, 5.816761029294689e-05)\n",
      "(0.7853481633979478, 5001, 9.999000099990002e-05)\n"
     ]
    }
   ],
   "source": [
    "\n",
    "def approxfunction(x):\n",
    "    a = 0 # the approximation\n",
    "    n = 1 # the degree, n in the function\n",
    "    i = 0 # i in the function\n",
    "    error_bound = 1\n",
    "    if 0 <= x <= 1: # restricts the input to between 0 or 1, otherwise it returns \"Error!\"\n",
    "        while error_bound >= 0.0001: \n",
    "# uses a while loop to keep improving the approximation until the error equals or is greater than the limit for the error\n",
    "            a += (((-1)**i)*(x**(2*i+1)))/(2*i + 1) # the sum of the approximated polynomial\n",
    "            error_bound = (x**(2*n+1))/(2*n+1) # calculates the error per loop\n",
    "            n += 1\n",
    "            i += 1\n",
    "        finalresult = (a, n, error_bound)\n",
    "        print(finalresult)\n",
    "    else:\n",
    "        print(\"Error!\")\n",
    "approxfunction(-1)\n",
    "approxfunction(0)\n",
    "approxfunction(0.25)\n",
    "approxfunction(0.5)\n",
    "approxfunction(0.75)\n",
    "approxfunction(1)"
   ]
  },
  {
   "cell_type": "code",
   "execution_count": 9,
   "id": "bc5500b1-c807-4f6b-89f3-3c87ad22028c",
   "metadata": {},
   "outputs": [
    {
     "name": "stdin",
     "output_type": "stream",
     "text": [
      "Enter and X Value: 0.25\n"
     ]
    }
   ],
   "source": [
    "x_value = float(input(\"Enter and X Value:\"))\n",
    "def my_function(x):\n",
    "    n = 0\n",
    "    a = 0\n",
    "    if x>= 0 and x <= 1:\n",
    "        while error_bound > 0.0001:\n",
    "            n = +1\n",
    "            error_bound = x**(2*n+1)/(2*n+1)\n",
    "        for i in range(0, n-1):\n",
    "            a = 0.0001\n",
    "            n_2 = 2*n + 1\n",
    "        print(a, n_2, error_bound)\n",
    "    else:\n",
    "        print(\"Error!\")"
   ]
  },
  {
   "cell_type": "code",
   "execution_count": 3,
   "id": "dbd742de-8a95-43d9-856c-bf007b562ffb",
   "metadata": {},
   "outputs": [
    {
     "data": {
      "text/plain": [
       "0"
      ]
     },
     "execution_count": 3,
     "metadata": {},
     "output_type": "execute_result"
    }
   ],
   "source": [
    "import numpy as np\n",
    "def funny(x):\n",
    "    if x<=-1:\n",
    "        return 0\n",
    "    elif x>=1:\n",
    "        return 0\n",
    "    else:\n",
    "        return np.exp(1-(1/(1-x**(10**250))))"
   ]
  }
 ],
 "metadata": {
  "kernelspec": {
   "display_name": "Python 3 (ipykernel)",
   "language": "python",
   "name": "python3"
  },
  "language_info": {
   "codemirror_mode": {
    "name": "ipython",
    "version": 3
   },
   "file_extension": ".py",
   "mimetype": "text/x-python",
   "name": "python",
   "nbconvert_exporter": "python",
   "pygments_lexer": "ipython3",
   "version": "3.11.4"
  }
 },
 "nbformat": 4,
 "nbformat_minor": 5
}
